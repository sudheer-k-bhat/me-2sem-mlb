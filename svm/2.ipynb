{
 "metadata": {
  "language_info": {
   "codemirror_mode": {
    "name": "ipython",
    "version": 3
   },
   "file_extension": ".py",
   "mimetype": "text/x-python",
   "name": "python",
   "nbconvert_exporter": "python",
   "pygments_lexer": "ipython3",
   "version": "3.7.9"
  },
  "orig_nbformat": 2,
  "kernelspec": {
   "name": "python379jvsc74a57bd0f9b08d4ec9e1c02921960eaf1fee5318ba8fa976b60b01d5d81ab4a0f069da57",
   "display_name": "Python 3.7.9 64-bit ('base': conda)"
  },
  "metadata": {
   "interpreter": {
    "hash": "aee8b7b246df8f9039afb4144a1f6fd8d2ca17a180786b69acc140d282b71a49"
   }
  }
 },
 "nbformat": 4,
 "nbformat_minor": 2,
 "cells": [
  {
   "cell_type": "code",
   "execution_count": 22,
   "metadata": {},
   "outputs": [],
   "source": [
    "# Standard modules\n",
    "import numpy as np\n",
    "import pandas as pd\n",
    "\n",
    "# Preprocessing module\n",
    "from sklearn.preprocessing import OneHotEncoder, StandardScaler, LabelEncoder, MinMaxScaler\n",
    "from sklearn.compose import ColumnTransformer\n",
    "\n",
    "# Cross validation module\n",
    "from sklearn.model_selection import cross_val_score, KFold, GridSearchCV\n",
    "\n",
    "# Pipeline module\n",
    "from sklearn.pipeline import make_pipeline, Pipeline\n",
    "\n",
    "# Classifier modules\n",
    "from sklearn.svm import SVC, LinearSVC\n",
    "from sklearn.naive_bayes import GaussianNB\n",
    "from sklearn.tree import DecisionTreeClassifier\n",
    "from sklearn.ensemble import RandomForestClassifier\n",
    "from sklearn.neighbors import KNeighborsClassifier\n",
    "from sklearn.linear_model import LogisticRegression\n",
    "\n",
    "# Performance metric modules\n",
    "from sklearn.metrics import accuracy_score"
   ]
  },
  {
   "cell_type": "code",
   "execution_count": 7,
   "metadata": {},
   "outputs": [],
   "source": [
    "df = pd.read_csv('data/OralCancerData.csv', sep=',', header = 0, index_col = 0)\n",
    "df.head()\n",
    "df = df.to_numpy()"
   ]
  },
  {
   "cell_type": "code",
   "execution_count": 8,
   "metadata": {},
   "outputs": [
    {
     "output_type": "stream",
     "name": "stdout",
     "text": [
      "Number of samples = 135\nNumber of features = 1024\nNumber of output labels = 3\n"
     ]
    }
   ],
   "source": [
    "y = df[:, -1]\n",
    "X = df[:, :-1]\n",
    "num_samples, num_features = X.shape\n",
    "num_labels = np.unique(y).shape[0]\n",
    "\n",
    "print(f'Number of samples = {num_samples}')\n",
    "print(f'Number of features = {num_features}')\n",
    "print(f'Number of output labels = {num_labels}')"
   ]
  },
  {
   "cell_type": "code",
   "execution_count": 9,
   "metadata": {},
   "outputs": [],
   "source": [
    "# Perform nested cross validation with 5-fold outer cross-validation\n",
    "## for model performance estimation and 3-fold inner cross validation procedure\n",
    "## for hyperparameter tuning to get the best model\n",
    "\n",
    "def grid_search_cv(model, param_grid):\n",
    "    rs = 1\n",
    "    # Configure the outer cross validation procedure\n",
    "    cv_outer = KFold(n_splits = 5, shuffle = True, random_state = rs)\n",
    "\n",
    "    # List for storing outer cv results\n",
    "    outer_cv_results = []\n",
    "\n",
    "    for train_ix, test_ix in cv_outer.split(X):\n",
    "        # Split data into train & test sets\n",
    "        # TODO understand?\n",
    "        X_train, X_test = X[train_ix, :], X[test_ix, :]\n",
    "        y_train, y_test = y[train_ix], y[test_ix]\n",
    "\n",
    "        # Configure the inner cross validation procedure\n",
    "        cv_inner = KFold(n_splits = 3, shuffle = True, random_state = rs)\n",
    "\n",
    "        # Create a pipeline for inner CV\n",
    "        pipe_inner = Pipeline(steps = [('preprocess', MinMaxScaler()),\n",
    "                                    ('model', model)])\n",
    "\n",
    "        # Define inner CV grid search using the pipeline\n",
    "        grid_search = GridSearchCV(pipe_inner,\n",
    "                                    param_grid,\n",
    "                                    scoring = 'accuracy',\n",
    "                                    n_jobs = 1,\n",
    "                                    cv = cv_inner)\n",
    "\n",
    "        # Execute the inner cv\n",
    "        inner_cv_result = grid_search.fit(X_train, y_train)\n",
    "\n",
    "        # Get the best performing model on the whole training set\n",
    "        best_model = grid_search.best_estimator_\n",
    "\n",
    "        # Evaluate the best model on the test dataset with the preprocessing applied\n",
    "        yhat = best_model.predict(X_test)\n",
    "        acc = accuracy_score(y_test, yhat)\n",
    "\n",
    "        # Store the outer cv perf result\n",
    "        outer_cv_results.append(acc)\n",
    "\n",
    "        # Report the progress\n",
    "        print('>acc=%.3f, est=%.3f, cfg=%s' % (acc, inner_cv_result.best_score_, inner_cv_result.best_params_))\n",
    "\n",
    "    ## Summarize the estimated performance of the model\n",
    "    print('Accuracy: %.3f (%.3f)' % (np.mean(outer_cv_results), np.std(outer_cv_results)))"
   ]
  },
  {
   "source": [
    "# SVM"
   ],
   "cell_type": "markdown",
   "metadata": {}
  },
  {
   "cell_type": "code",
   "execution_count": 35,
   "metadata": {},
   "outputs": [
    {
     "output_type": "stream",
     "name": "stdout",
     "text": [
      ">acc=0.667, est=0.620, cfg={'model__C': 100.0, 'model__gamma': 0.001}\n",
      ">acc=0.630, est=0.630, cfg={'model__C': 1.0, 'model__gamma': 0.1}\n",
      ">acc=0.444, est=0.639, cfg={'model__C': 10000.0, 'model__gamma': 0.0001}\n",
      ">acc=0.630, est=0.583, cfg={'model__C': 1.0, 'model__gamma': 0.1}\n",
      ">acc=0.481, est=0.620, cfg={'model__C': 10000.0, 'model__gamma': 0.1}\n",
      "Accuracy: 0.570 (0.090)\n"
     ]
    }
   ],
   "source": [
    "# Define classifier model\n",
    "model = SVC(kernel = 'rbf')\n",
    "# Define hyper-parameter search space\n",
    "param_grid = {\n",
    "    'model__C': [1e04, 1e02, 1e01, 1e-0, 1e-02, 1e-04],\n",
    "    'model__gamma': [1e01, 1e-0, 1e-01, 1e-02, 1e-03, 1e-04]\n",
    "}\n",
    "grid_search_cv(model, param_grid)"
   ]
  },
  {
   "cell_type": "code",
   "execution_count": 38,
   "metadata": {},
   "outputs": [
    {
     "output_type": "stream",
     "name": "stdout",
     "text": [
      ">acc=0.667, est=0.602, cfg={'model__C': 10.0, 'model__degree': 2, 'model__gamma': 0.01}\n",
      ">acc=0.593, est=0.593, cfg={'model__C': 10000.0, 'model__degree': 2, 'model__gamma': 0.0001}\n",
      ">acc=0.519, est=0.639, cfg={'model__C': 10000.0, 'model__degree': 2, 'model__gamma': 0.0001}\n",
      ">acc=0.593, est=0.593, cfg={'model__C': 10.0, 'model__degree': 2, 'model__gamma': 0.01}\n",
      ">acc=0.519, est=0.583, cfg={'model__C': 10.0, 'model__degree': 4, 'model__gamma': 0.01}\n",
      "Accuracy: 0.578 (0.055)\n"
     ]
    }
   ],
   "source": [
    "# Define classifier model\n",
    "model = SVC(kernel = 'poly')\n",
    "# Define hyper-parameter search space\n",
    "param_grid = {\n",
    "    'model__C': [1e04, 1e02, 1e01, 1e-0, 1e-02, 1e-04],\n",
    "    'model__gamma': [1e01, 1e-0, 1e-01, 1e-02, 1e-03, 1e-04],\n",
    "    'model__degree': [2,3,4]\n",
    "}\n",
    "grid_search_cv(model, param_grid)"
   ]
  },
  {
   "cell_type": "code",
   "execution_count": 40,
   "metadata": {
    "tags": []
   },
   "outputs": [
    {
     "output_type": "stream",
     "name": "stdout",
     "text": [
      ">acc=0.667, est=0.630, cfg={'model__C': 1.0, 'model__gamma': 10.0, 'model__kernel': 'linear'}\n",
      ">acc=0.556, est=0.593, cfg={'model__C': 1.0, 'model__gamma': 10.0, 'model__kernel': 'linear'}\n",
      ">acc=0.444, est=0.611, cfg={'model__C': 1.0, 'model__gamma': 10.0, 'model__kernel': 'linear'}\n",
      ">acc=0.593, est=0.556, cfg={'model__C': 10.0, 'model__gamma': 10.0, 'model__kernel': 'linear'}\n",
      ">acc=0.741, est=0.565, cfg={'model__C': 1.0, 'model__gamma': 10.0, 'model__kernel': 'linear'}\n",
      "Accuracy: 0.600 (0.100)\n"
     ]
    }
   ],
   "source": [
    "# Define classifier model\n",
    "model = SVC()\n",
    "# Define hyper-parameter search space\n",
    "param_grid = {\n",
    "    'model__C': [1e04, 1e02, 1e01, 1e-0, 1e-02, 1e-04],\n",
    "    'model__gamma': [1e01, 1e-0, 1e-01, 1e-02, 1e-03, 1e-04],\n",
    "    'model__kernel': ['linear']\n",
    "}\n",
    "grid_search_cv(model, param_grid)"
   ]
  },
  {
   "cell_type": "code",
   "execution_count": 42,
   "metadata": {
    "tags": []
   },
   "outputs": [
    {
     "output_type": "stream",
     "name": "stdout",
     "text": [
      ">acc=0.667, est=0.620, cfg={'model__C': 10000.0, 'model__gamma': 0.0001, 'model__kernel': 'sigmoid'}\n",
      ">acc=0.593, est=0.620, cfg={'model__C': 100.0, 'model__gamma': 0.001, 'model__kernel': 'sigmoid'}\n",
      ">acc=0.519, est=0.620, cfg={'model__C': 100.0, 'model__gamma': 0.001, 'model__kernel': 'sigmoid'}\n",
      ">acc=0.556, est=0.537, cfg={'model__C': 10000.0, 'model__gamma': 0.0001, 'model__kernel': 'sigmoid'}\n",
      ">acc=0.741, est=0.565, cfg={'model__C': 10000.0, 'model__gamma': 0.0001, 'model__kernel': 'sigmoid'}\n",
      "Accuracy: 0.615 (0.080)\n"
     ]
    }
   ],
   "source": [
    "# Define classifier model\n",
    "model = SVC()\n",
    "# Define hyper-parameter search space\n",
    "param_grid = {\n",
    "    'model__C': [1e04, 1e02, 1e01, 1e-0, 1e-02, 1e-04],\n",
    "    'model__gamma': [1e01, 1e-0, 1e-01, 1e-02, 1e-03, 1e-04],\n",
    "    'model__kernel': ['sigmoid']\n",
    "}\n",
    "grid_search_cv(model, param_grid)"
   ]
  },
  {
   "source": [
    "# Nåive Bayes"
   ],
   "cell_type": "markdown",
   "metadata": {}
  },
  {
   "cell_type": "code",
   "execution_count": 12,
   "metadata": {},
   "outputs": [
    {
     "output_type": "stream",
     "name": "stdout",
     "text": [
      ">acc=0.667, est=0.630, cfg={}\n>acc=0.519, est=0.620, cfg={}\n>acc=0.556, est=0.602, cfg={}\n>acc=0.630, est=0.583, cfg={}\n>acc=0.519, est=0.611, cfg={}\nAccuracy: 0.578 (0.060)\n"
     ]
    }
   ],
   "source": [
    "# Define classifier model\n",
    "model = GaussianNB()\n",
    "# Define hyper-parameter search space\n",
    "param_grid = {\n",
    "}\n",
    "grid_search_cv(model, param_grid)"
   ]
  },
  {
   "source": [
    "# Decision Tree"
   ],
   "cell_type": "markdown",
   "metadata": {}
  },
  {
   "cell_type": "code",
   "execution_count": 15,
   "metadata": {},
   "outputs": [
    {
     "output_type": "stream",
     "name": "stdout",
     "text": [
      ">acc=0.593, est=0.500, cfg={'model__criterion': 'entropy'}\n",
      ">acc=0.370, est=0.583, cfg={'model__criterion': 'gini'}\n",
      ">acc=0.593, est=0.509, cfg={'model__criterion': 'gini'}\n",
      ">acc=0.407, est=0.454, cfg={'model__criterion': 'gini'}\n",
      ">acc=0.481, est=0.500, cfg={'model__criterion': 'entropy'}\n",
      "Accuracy: 0.489 (0.092)\n"
     ]
    }
   ],
   "source": [
    "# Define classifier model\n",
    "model = DecisionTreeClassifier(random_state=1)\n",
    "# Define hyper-parameter search space\n",
    "param_grid = {\n",
    "    'model__criterion': ['gini', 'entropy']\n",
    "}\n",
    "grid_search_cv(model, param_grid)"
   ]
  },
  {
   "cell_type": "code",
   "execution_count": 18,
   "metadata": {},
   "outputs": [
    {
     "output_type": "stream",
     "name": "stdout",
     "text": [
      ">acc=0.630, est=0.593, cfg={'model__criterion': 'entropy', 'model__n_estimators': 100}\n",
      ">acc=0.593, est=0.620, cfg={'model__criterion': 'gini', 'model__n_estimators': 500}\n",
      ">acc=0.444, est=0.574, cfg={'model__criterion': 'gini', 'model__n_estimators': 500}\n",
      ">acc=0.556, est=0.593, cfg={'model__criterion': 'gini', 'model__n_estimators': 100}\n",
      ">acc=0.630, est=0.630, cfg={'model__criterion': 'gini', 'model__n_estimators': 250}\n",
      "Accuracy: 0.570 (0.069)\n"
     ]
    }
   ],
   "source": [
    "# Define classifier model\n",
    "model = RandomForestClassifier(random_state=1)\n",
    "# Define hyper-parameter search space\n",
    "param_grid = {\n",
    "    'model__criterion': ['gini', 'entropy'],\n",
    "    'model__n_estimators': [100, 250, 500]\n",
    "}\n",
    "grid_search_cv(model, param_grid)"
   ]
  },
  {
   "source": [
    "# KNN"
   ],
   "cell_type": "markdown",
   "metadata": {}
  },
  {
   "cell_type": "code",
   "execution_count": 21,
   "metadata": {
    "tags": []
   },
   "outputs": [
    {
     "output_type": "stream",
     "name": "stdout",
     "text": [
      ">acc=0.667, est=0.565, cfg={'model__metric': 'euclidean', 'model__n_neighbors': 10}\n",
      ">acc=0.593, est=0.620, cfg={'model__metric': 'manhattan', 'model__n_neighbors': 5}\n",
      ">acc=0.556, est=0.602, cfg={'model__metric': 'manhattan', 'model__n_neighbors': 10}\n",
      ">acc=0.481, est=0.565, cfg={'model__metric': 'euclidean', 'model__n_neighbors': 5}\n",
      ">acc=0.593, est=0.630, cfg={'model__metric': 'manhattan', 'model__n_neighbors': 10}\n",
      "Accuracy: 0.578 (0.060)\n"
     ]
    }
   ],
   "source": [
    "# Define classifier model\n",
    "model = KNeighborsClassifier()\n",
    "# Define hyper-parameter search space\n",
    "param_grid = {\n",
    "    'model__n_neighbors': [5, 10, 20],\n",
    "    'model__metric': ['euclidean', 'manhattan']\n",
    "}\n",
    "grid_search_cv(model, param_grid)"
   ]
  },
  {
   "source": [
    "# PCA"
   ],
   "cell_type": "markdown",
   "metadata": {}
  },
  {
   "cell_type": "code",
   "execution_count": 4,
   "metadata": {},
   "outputs": [
    {
     "output_type": "execute_result",
     "data": {
      "text/plain": [
       "                    0        1        2        3        4        5        6  \\\n",
       "M10LCLESION1  1.21870  1.22150  1.23260  1.24910  1.27210  1.28200  1.27880   \n",
       "M2LCLESION    0.48689  0.49425  0.50150  0.50485  0.50666  0.50967  0.51672   \n",
       "M12RCLESION   0.84589  0.86129  0.86966  0.87605  0.88683  0.89870  0.90839   \n",
       "M14LC1        0.30798  0.31296  0.31622  0.31876  0.32229  0.32562  0.32850   \n",
       "M17LCLESION1  0.86088  0.87370  0.88305  0.89150  0.90274  0.91265  0.92044   \n",
       "\n",
       "                    7        8        9  ...      1017      1018      1019  \\\n",
       "M10LCLESION1  1.26740  1.25350  1.24050  ...  0.036554  0.018306  0.002395   \n",
       "M2LCLESION    0.52545  0.53464  0.54266  ...  0.004626  0.004651  0.002123   \n",
       "M12RCLESION   0.91491  0.92007  0.92514  ...  0.000037  0.001354  0.002109   \n",
       "M14LC1        0.33110  0.33391  0.33686  ... -0.002230 -0.002266 -0.002443   \n",
       "M17LCLESION1  0.92729  0.93490  0.94293  ... -0.001193 -0.000523  0.000028   \n",
       "\n",
       "                  1020      1021      1022      1023  Label       pc1  \\\n",
       "M10LCLESION1 -0.001093  0.011570  0.028145  0.026469      0 -0.466247   \n",
       "M2LCLESION    0.001995  0.001278  0.003504  0.002832      0  3.089102   \n",
       "M12RCLESION   0.002969  0.005937  0.009449  0.009056      0 -3.716229   \n",
       "M14LC1       -0.002820 -0.002754 -0.002487 -0.003224      0  4.605701   \n",
       "M17LCLESION1  0.000667  0.003112  0.005853  0.004711      0 -4.592204   \n",
       "\n",
       "                   pc2  \n",
       "M10LCLESION1  5.356935  \n",
       "M2LCLESION    2.895830  \n",
       "M12RCLESION  -0.124117  \n",
       "M14LC1        0.407585  \n",
       "M17LCLESION1  0.298779  \n",
       "\n",
       "[5 rows x 1027 columns]"
      ],
      "text/html": "<div>\n<style scoped>\n    .dataframe tbody tr th:only-of-type {\n        vertical-align: middle;\n    }\n\n    .dataframe tbody tr th {\n        vertical-align: top;\n    }\n\n    .dataframe thead th {\n        text-align: right;\n    }\n</style>\n<table border=\"1\" class=\"dataframe\">\n  <thead>\n    <tr style=\"text-align: right;\">\n      <th></th>\n      <th>0</th>\n      <th>1</th>\n      <th>2</th>\n      <th>3</th>\n      <th>4</th>\n      <th>5</th>\n      <th>6</th>\n      <th>7</th>\n      <th>8</th>\n      <th>9</th>\n      <th>...</th>\n      <th>1017</th>\n      <th>1018</th>\n      <th>1019</th>\n      <th>1020</th>\n      <th>1021</th>\n      <th>1022</th>\n      <th>1023</th>\n      <th>Label</th>\n      <th>pc1</th>\n      <th>pc2</th>\n    </tr>\n  </thead>\n  <tbody>\n    <tr>\n      <th>M10LCLESION1</th>\n      <td>1.21870</td>\n      <td>1.22150</td>\n      <td>1.23260</td>\n      <td>1.24910</td>\n      <td>1.27210</td>\n      <td>1.28200</td>\n      <td>1.27880</td>\n      <td>1.26740</td>\n      <td>1.25350</td>\n      <td>1.24050</td>\n      <td>...</td>\n      <td>0.036554</td>\n      <td>0.018306</td>\n      <td>0.002395</td>\n      <td>-0.001093</td>\n      <td>0.011570</td>\n      <td>0.028145</td>\n      <td>0.026469</td>\n      <td>0</td>\n      <td>-0.466247</td>\n      <td>5.356935</td>\n    </tr>\n    <tr>\n      <th>M2LCLESION</th>\n      <td>0.48689</td>\n      <td>0.49425</td>\n      <td>0.50150</td>\n      <td>0.50485</td>\n      <td>0.50666</td>\n      <td>0.50967</td>\n      <td>0.51672</td>\n      <td>0.52545</td>\n      <td>0.53464</td>\n      <td>0.54266</td>\n      <td>...</td>\n      <td>0.004626</td>\n      <td>0.004651</td>\n      <td>0.002123</td>\n      <td>0.001995</td>\n      <td>0.001278</td>\n      <td>0.003504</td>\n      <td>0.002832</td>\n      <td>0</td>\n      <td>3.089102</td>\n      <td>2.895830</td>\n    </tr>\n    <tr>\n      <th>M12RCLESION</th>\n      <td>0.84589</td>\n      <td>0.86129</td>\n      <td>0.86966</td>\n      <td>0.87605</td>\n      <td>0.88683</td>\n      <td>0.89870</td>\n      <td>0.90839</td>\n      <td>0.91491</td>\n      <td>0.92007</td>\n      <td>0.92514</td>\n      <td>...</td>\n      <td>0.000037</td>\n      <td>0.001354</td>\n      <td>0.002109</td>\n      <td>0.002969</td>\n      <td>0.005937</td>\n      <td>0.009449</td>\n      <td>0.009056</td>\n      <td>0</td>\n      <td>-3.716229</td>\n      <td>-0.124117</td>\n    </tr>\n    <tr>\n      <th>M14LC1</th>\n      <td>0.30798</td>\n      <td>0.31296</td>\n      <td>0.31622</td>\n      <td>0.31876</td>\n      <td>0.32229</td>\n      <td>0.32562</td>\n      <td>0.32850</td>\n      <td>0.33110</td>\n      <td>0.33391</td>\n      <td>0.33686</td>\n      <td>...</td>\n      <td>-0.002230</td>\n      <td>-0.002266</td>\n      <td>-0.002443</td>\n      <td>-0.002820</td>\n      <td>-0.002754</td>\n      <td>-0.002487</td>\n      <td>-0.003224</td>\n      <td>0</td>\n      <td>4.605701</td>\n      <td>0.407585</td>\n    </tr>\n    <tr>\n      <th>M17LCLESION1</th>\n      <td>0.86088</td>\n      <td>0.87370</td>\n      <td>0.88305</td>\n      <td>0.89150</td>\n      <td>0.90274</td>\n      <td>0.91265</td>\n      <td>0.92044</td>\n      <td>0.92729</td>\n      <td>0.93490</td>\n      <td>0.94293</td>\n      <td>...</td>\n      <td>-0.001193</td>\n      <td>-0.000523</td>\n      <td>0.000028</td>\n      <td>0.000667</td>\n      <td>0.003112</td>\n      <td>0.005853</td>\n      <td>0.004711</td>\n      <td>0</td>\n      <td>-4.592204</td>\n      <td>0.298779</td>\n    </tr>\n  </tbody>\n</table>\n<p>5 rows × 1027 columns</p>\n</div>"
     },
     "metadata": {},
     "execution_count": 4
    }
   ],
   "source": [
    "from sklearn.decomposition import PCA\n",
    "\n",
    "df2 = pd.read_csv('data/OralCancerData.csv', sep=',', header = 0, index_col = 0)\n",
    "\n",
    "pca = PCA(n_components=2)\n",
    "pcs = pca.fit_transform(df2.iloc[:, :-1])\n",
    "df2['pc1'] = pcs[:,0]\n",
    "df2['pc2'] = pcs[:,1]\n",
    "df2.head()"
   ]
  },
  {
   "cell_type": "code",
   "execution_count": 5,
   "metadata": {},
   "outputs": [
    {
     "output_type": "execute_result",
     "data": {
      "text/plain": [
       "<matplotlib.axes._subplots.AxesSubplot at 0x7f9c40cec3d0>"
      ]
     },
     "metadata": {},
     "execution_count": 5
    },
    {
     "output_type": "display_data",
     "data": {
      "text/plain": "<Figure size 432x288 with 1 Axes>",
      "image/svg+xml": "<?xml version=\"1.0\" encoding=\"utf-8\" standalone=\"no\"?>\n<!DOCTYPE svg PUBLIC \"-//W3C//DTD SVG 1.1//EN\"\n  \"http://www.w3.org/Graphics/SVG/1.1/DTD/svg11.dtd\">\n<!-- Created with matplotlib (https://matplotlib.org/) -->\n<svg height=\"262.19625pt\" version=\"1.1\" viewBox=\"0 0 384.620312 262.19625\" width=\"384.620312pt\" xmlns=\"http://www.w3.org/2000/svg\" xmlns:xlink=\"http://www.w3.org/1999/xlink\">\n <defs>\n  <style type=\"text/css\">\n*{stroke-linecap:butt;stroke-linejoin:round;}\n  </style>\n </defs>\n <g id=\"figure_1\">\n  <g id=\"patch_1\">\n   <path d=\"M 0 262.19625 \nL 384.620312 262.19625 \nL 384.620312 0 \nL 0 0 \nz\n\" style=\"fill:none;\"/>\n  </g>\n  <g id=\"axes_1\">\n   <g id=\"patch_2\">\n    <path d=\"M 42.620313 224.64 \nL 377.420313 224.64 \nL 377.420313 7.2 \nL 42.620313 7.2 \nz\n\" style=\"fill:#ffffff;\"/>\n   </g>\n   <g id=\"PathCollection_1\">\n    <defs>\n     <path d=\"M 0 3 \nC 0.795609 3 1.55874 2.683901 2.12132 2.12132 \nC 2.683901 1.55874 3 0.795609 3 0 \nC 3 -0.795609 2.683901 -1.55874 2.12132 -2.12132 \nC 1.55874 -2.683901 0.795609 -3 0 -3 \nC -0.795609 -3 -1.55874 -2.683901 -2.12132 -2.12132 \nC -2.683901 -1.55874 -3 -0.795609 -3 0 \nC -3 0.795609 -2.683901 1.55874 -2.12132 2.12132 \nC -1.55874 2.683901 -0.795609 3 0 3 \nz\n\" id=\"C0_0_60183ee6e3\"/>\n    </defs>\n    <g clip-path=\"url(#p3d548e2b7b)\">\n     <use style=\"fill:#4c72b0;stroke:#ffffff;stroke-width:0.48;\" x=\"183.876325\" xlink:href=\"#C0_0_60183ee6e3\" y=\"17.083636\"/>\n    </g>\n    <g clip-path=\"url(#p3d548e2b7b)\">\n     <use style=\"fill:#4c72b0;stroke:#ffffff;stroke-width:0.48;\" x=\"272.455451\" xlink:href=\"#C0_0_60183ee6e3\" y=\"65.980153\"/>\n    </g>\n    <g clip-path=\"url(#p3d548e2b7b)\">\n     <use style=\"fill:#4c72b0;stroke:#ffffff;stroke-width:0.48;\" x=\"102.905215\" xlink:href=\"#C0_0_60183ee6e3\" y=\"125.97955\"/>\n    </g>\n    <g clip-path=\"url(#p3d548e2b7b)\">\n     <use style=\"fill:#4c72b0;stroke:#ffffff;stroke-width:0.48;\" x=\"310.240514\" xlink:href=\"#C0_0_60183ee6e3\" y=\"115.415862\"/>\n    </g>\n    <g clip-path=\"url(#p3d548e2b7b)\">\n     <use style=\"fill:#4c72b0;stroke:#ffffff;stroke-width:0.48;\" x=\"81.080882\" xlink:href=\"#C0_0_60183ee6e3\" y=\"117.577585\"/>\n    </g>\n    <g clip-path=\"url(#p3d548e2b7b)\">\n     <use style=\"fill:#4c72b0;stroke:#ffffff;stroke-width:0.48;\" x=\"275.616425\" xlink:href=\"#C0_0_60183ee6e3\" y=\"100.14718\"/>\n    </g>\n    <g clip-path=\"url(#p3d548e2b7b)\">\n     <use style=\"fill:#4c72b0;stroke:#ffffff;stroke-width:0.48;\" x=\"173.369545\" xlink:href=\"#C0_0_60183ee6e3\" y=\"116.951638\"/>\n    </g>\n    <g clip-path=\"url(#p3d548e2b7b)\">\n     <use style=\"fill:#4c72b0;stroke:#ffffff;stroke-width:0.48;\" x=\"207.502819\" xlink:href=\"#C0_0_60183ee6e3\" y=\"135.495684\"/>\n    </g>\n    <g clip-path=\"url(#p3d548e2b7b)\">\n     <use style=\"fill:#4c72b0;stroke:#ffffff;stroke-width:0.48;\" x=\"284.540459\" xlink:href=\"#C0_0_60183ee6e3\" y=\"151.665427\"/>\n    </g>\n    <g clip-path=\"url(#p3d548e2b7b)\">\n     <use style=\"fill:#4c72b0;stroke:#ffffff;stroke-width:0.48;\" x=\"237.879586\" xlink:href=\"#C0_0_60183ee6e3\" y=\"98.757844\"/>\n    </g>\n    <g clip-path=\"url(#p3d548e2b7b)\">\n     <use style=\"fill:#4c72b0;stroke:#ffffff;stroke-width:0.48;\" x=\"308.810913\" xlink:href=\"#C0_0_60183ee6e3\" y=\"132.039728\"/>\n    </g>\n    <g clip-path=\"url(#p3d548e2b7b)\">\n     <use style=\"fill:#4c72b0;stroke:#ffffff;stroke-width:0.48;\" x=\"263.042091\" xlink:href=\"#C0_0_60183ee6e3\" y=\"119.538975\"/>\n    </g>\n    <g clip-path=\"url(#p3d548e2b7b)\">\n     <use style=\"fill:#4c72b0;stroke:#ffffff;stroke-width:0.48;\" x=\"353.660464\" xlink:href=\"#C0_0_60183ee6e3\" y=\"64.124033\"/>\n    </g>\n    <g clip-path=\"url(#p3d548e2b7b)\">\n     <use style=\"fill:#4c72b0;stroke:#ffffff;stroke-width:0.48;\" x=\"117.272979\" xlink:href=\"#C0_0_60183ee6e3\" y=\"119.205809\"/>\n    </g>\n    <g clip-path=\"url(#p3d548e2b7b)\">\n     <use style=\"fill:#4c72b0;stroke:#ffffff;stroke-width:0.48;\" x=\"330.322164\" xlink:href=\"#C0_0_60183ee6e3\" y=\"94.308579\"/>\n    </g>\n    <g clip-path=\"url(#p3d548e2b7b)\">\n     <use style=\"fill:#4c72b0;stroke:#ffffff;stroke-width:0.48;\" x=\"178.830695\" xlink:href=\"#C0_0_60183ee6e3\" y=\"119.73809\"/>\n    </g>\n    <g clip-path=\"url(#p3d548e2b7b)\">\n     <use style=\"fill:#4c72b0;stroke:#ffffff;stroke-width:0.48;\" x=\"254.787854\" xlink:href=\"#C0_0_60183ee6e3\" y=\"124.393574\"/>\n    </g>\n    <g clip-path=\"url(#p3d548e2b7b)\">\n     <use style=\"fill:#4c72b0;stroke:#ffffff;stroke-width:0.48;\" x=\"224.149769\" xlink:href=\"#C0_0_60183ee6e3\" y=\"143.612088\"/>\n    </g>\n    <g clip-path=\"url(#p3d548e2b7b)\">\n     <use style=\"fill:#4c72b0;stroke:#ffffff;stroke-width:0.48;\" x=\"355.887423\" xlink:href=\"#C0_0_60183ee6e3\" y=\"116.368214\"/>\n    </g>\n    <g clip-path=\"url(#p3d548e2b7b)\">\n     <use style=\"fill:#4c72b0;stroke:#ffffff;stroke-width:0.48;\" x=\"204.098824\" xlink:href=\"#C0_0_60183ee6e3\" y=\"104.615424\"/>\n    </g>\n    <g clip-path=\"url(#p3d548e2b7b)\">\n     <use style=\"fill:#4c72b0;stroke:#ffffff;stroke-width:0.48;\" x=\"346.08139\" xlink:href=\"#C0_0_60183ee6e3\" y=\"90.618007\"/>\n    </g>\n    <g clip-path=\"url(#p3d548e2b7b)\">\n     <use style=\"fill:#4c72b0;stroke:#ffffff;stroke-width:0.48;\" x=\"154.213178\" xlink:href=\"#C0_0_60183ee6e3\" y=\"102.114647\"/>\n    </g>\n    <g clip-path=\"url(#p3d548e2b7b)\">\n     <use style=\"fill:#4c72b0;stroke:#ffffff;stroke-width:0.48;\" x=\"280.31742\" xlink:href=\"#C0_0_60183ee6e3\" y=\"132.669199\"/>\n    </g>\n    <g clip-path=\"url(#p3d548e2b7b)\">\n     <use style=\"fill:#4c72b0;stroke:#ffffff;stroke-width:0.48;\" x=\"362.202131\" xlink:href=\"#C0_0_60183ee6e3\" y=\"82.208151\"/>\n    </g>\n    <g clip-path=\"url(#p3d548e2b7b)\">\n     <use style=\"fill:#4c72b0;stroke:#ffffff;stroke-width:0.48;\" x=\"279.539496\" xlink:href=\"#C0_0_60183ee6e3\" y=\"155.918159\"/>\n    </g>\n    <g clip-path=\"url(#p3d548e2b7b)\">\n     <use style=\"fill:#4c72b0;stroke:#ffffff;stroke-width:0.48;\" x=\"93.95693\" xlink:href=\"#C0_0_60183ee6e3\" y=\"83.621374\"/>\n    </g>\n    <g clip-path=\"url(#p3d548e2b7b)\">\n     <use style=\"fill:#4c72b0;stroke:#ffffff;stroke-width:0.48;\" x=\"287.994719\" xlink:href=\"#C0_0_60183ee6e3\" y=\"142.534199\"/>\n    </g>\n    <g clip-path=\"url(#p3d548e2b7b)\">\n     <use style=\"fill:#4c72b0;stroke:#ffffff;stroke-width:0.48;\" x=\"198.110533\" xlink:href=\"#C0_0_60183ee6e3\" y=\"114.668002\"/>\n    </g>\n    <g clip-path=\"url(#p3d548e2b7b)\">\n     <use style=\"fill:#4c72b0;stroke:#ffffff;stroke-width:0.48;\" x=\"329.771353\" xlink:href=\"#C0_0_60183ee6e3\" y=\"104.102795\"/>\n    </g>\n    <g clip-path=\"url(#p3d548e2b7b)\">\n     <use style=\"fill:#4c72b0;stroke:#ffffff;stroke-width:0.48;\" x=\"229.315062\" xlink:href=\"#C0_0_60183ee6e3\" y=\"128.697593\"/>\n    </g>\n    <g clip-path=\"url(#p3d548e2b7b)\">\n     <use style=\"fill:#4c72b0;stroke:#ffffff;stroke-width:0.48;\" x=\"170.025494\" xlink:href=\"#C0_0_60183ee6e3\" y=\"111.549469\"/>\n    </g>\n    <g clip-path=\"url(#p3d548e2b7b)\">\n     <use style=\"fill:#4c72b0;stroke:#ffffff;stroke-width:0.48;\" x=\"297.462682\" xlink:href=\"#C0_0_60183ee6e3\" y=\"150.936698\"/>\n    </g>\n    <g clip-path=\"url(#p3d548e2b7b)\">\n     <use style=\"fill:#4c72b0;stroke:#ffffff;stroke-width:0.48;\" x=\"291.597171\" xlink:href=\"#C0_0_60183ee6e3\" y=\"157.688787\"/>\n    </g>\n    <g clip-path=\"url(#p3d548e2b7b)\">\n     <use style=\"fill:#4c72b0;stroke:#ffffff;stroke-width:0.48;\" x=\"230.941772\" xlink:href=\"#C0_0_60183ee6e3\" y=\"186.920816\"/>\n    </g>\n    <g clip-path=\"url(#p3d548e2b7b)\">\n     <use style=\"fill:#4c72b0;stroke:#ffffff;stroke-width:0.48;\" x=\"283.447066\" xlink:href=\"#C0_0_60183ee6e3\" y=\"124.033219\"/>\n    </g>\n    <g clip-path=\"url(#p3d548e2b7b)\">\n     <use style=\"fill:#4c72b0;stroke:#ffffff;stroke-width:0.48;\" x=\"199.348672\" xlink:href=\"#C0_0_60183ee6e3\" y=\"214.756364\"/>\n    </g>\n    <g clip-path=\"url(#p3d548e2b7b)\">\n     <use style=\"fill:#4c72b0;stroke:#ffffff;stroke-width:0.48;\" x=\"292.422257\" xlink:href=\"#C0_0_60183ee6e3\" y=\"134.729827\"/>\n    </g>\n    <g clip-path=\"url(#p3d548e2b7b)\">\n     <use style=\"fill:#4c72b0;stroke:#ffffff;stroke-width:0.48;\" x=\"199.563762\" xlink:href=\"#C0_0_60183ee6e3\" y=\"159.530286\"/>\n    </g>\n    <g clip-path=\"url(#p3d548e2b7b)\">\n     <use style=\"fill:#4c72b0;stroke:#ffffff;stroke-width:0.48;\" x=\"240.875747\" xlink:href=\"#C0_0_60183ee6e3\" y=\"115.365239\"/>\n    </g>\n    <g clip-path=\"url(#p3d548e2b7b)\">\n     <use style=\"fill:#4c72b0;stroke:#ffffff;stroke-width:0.48;\" x=\"292.377571\" xlink:href=\"#C0_0_60183ee6e3\" y=\"137.650756\"/>\n    </g>\n    <g clip-path=\"url(#p3d548e2b7b)\">\n     <use style=\"fill:#4c72b0;stroke:#ffffff;stroke-width:0.48;\" x=\"101.883745\" xlink:href=\"#C0_0_60183ee6e3\" y=\"113.550755\"/>\n    </g>\n    <g clip-path=\"url(#p3d548e2b7b)\">\n     <use style=\"fill:#4c72b0;stroke:#ffffff;stroke-width:0.48;\" x=\"177.928898\" xlink:href=\"#C0_0_60183ee6e3\" y=\"108.623236\"/>\n    </g>\n    <g clip-path=\"url(#p3d548e2b7b)\">\n     <use style=\"fill:#4c72b0;stroke:#ffffff;stroke-width:0.48;\" x=\"268.299328\" xlink:href=\"#C0_0_60183ee6e3\" y=\"85.531072\"/>\n    </g>\n    <g clip-path=\"url(#p3d548e2b7b)\">\n     <use style=\"fill:#4c72b0;stroke:#ffffff;stroke-width:0.48;\" x=\"300.569318\" xlink:href=\"#C0_0_60183ee6e3\" y=\"124.402739\"/>\n    </g>\n    <g clip-path=\"url(#p3d548e2b7b)\">\n     <use style=\"fill:#4c72b0;stroke:#ffffff;stroke-width:0.48;\" x=\"245.727251\" xlink:href=\"#C0_0_60183ee6e3\" y=\"82.200587\"/>\n    </g>\n    <g clip-path=\"url(#p3d548e2b7b)\">\n     <use style=\"fill:#dd8452;stroke:#ffffff;stroke-width:0.48;\" x=\"274.586915\" xlink:href=\"#C0_0_60183ee6e3\" y=\"145.868302\"/>\n    </g>\n    <g clip-path=\"url(#p3d548e2b7b)\">\n     <use style=\"fill:#dd8452;stroke:#ffffff;stroke-width:0.48;\" x=\"234.907809\" xlink:href=\"#C0_0_60183ee6e3\" y=\"147.701056\"/>\n    </g>\n    <g clip-path=\"url(#p3d548e2b7b)\">\n     <use style=\"fill:#dd8452;stroke:#ffffff;stroke-width:0.48;\" x=\"166.100761\" xlink:href=\"#C0_0_60183ee6e3\" y=\"145.938982\"/>\n    </g>\n    <g clip-path=\"url(#p3d548e2b7b)\">\n     <use style=\"fill:#dd8452;stroke:#ffffff;stroke-width:0.48;\" x=\"169.667697\" xlink:href=\"#C0_0_60183ee6e3\" y=\"74.525682\"/>\n    </g>\n    <g clip-path=\"url(#p3d548e2b7b)\">\n     <use style=\"fill:#dd8452;stroke:#ffffff;stroke-width:0.48;\" x=\"129.592584\" xlink:href=\"#C0_0_60183ee6e3\" y=\"109.992839\"/>\n    </g>\n    <g clip-path=\"url(#p3d548e2b7b)\">\n     <use style=\"fill:#dd8452;stroke:#ffffff;stroke-width:0.48;\" x=\"156.665182\" xlink:href=\"#C0_0_60183ee6e3\" y=\"117.16682\"/>\n    </g>\n    <g clip-path=\"url(#p3d548e2b7b)\">\n     <use style=\"fill:#dd8452;stroke:#ffffff;stroke-width:0.48;\" x=\"106.797226\" xlink:href=\"#C0_0_60183ee6e3\" y=\"119.893896\"/>\n    </g>\n    <g clip-path=\"url(#p3d548e2b7b)\">\n     <use style=\"fill:#dd8452;stroke:#ffffff;stroke-width:0.48;\" x=\"213.236606\" xlink:href=\"#C0_0_60183ee6e3\" y=\"134.640632\"/>\n    </g>\n    <g clip-path=\"url(#p3d548e2b7b)\">\n     <use style=\"fill:#dd8452;stroke:#ffffff;stroke-width:0.48;\" x=\"204.883993\" xlink:href=\"#C0_0_60183ee6e3\" y=\"144.691556\"/>\n    </g>\n    <g clip-path=\"url(#p3d548e2b7b)\">\n     <use style=\"fill:#dd8452;stroke:#ffffff;stroke-width:0.48;\" x=\"137.137606\" xlink:href=\"#C0_0_60183ee6e3\" y=\"114.391926\"/>\n    </g>\n    <g clip-path=\"url(#p3d548e2b7b)\">\n     <use style=\"fill:#dd8452;stroke:#ffffff;stroke-width:0.48;\" x=\"209.231468\" xlink:href=\"#C0_0_60183ee6e3\" y=\"139.360932\"/>\n    </g>\n    <g clip-path=\"url(#p3d548e2b7b)\">\n     <use style=\"fill:#dd8452;stroke:#ffffff;stroke-width:0.48;\" x=\"165.801474\" xlink:href=\"#C0_0_60183ee6e3\" y=\"108.112547\"/>\n    </g>\n    <g clip-path=\"url(#p3d548e2b7b)\">\n     <use style=\"fill:#dd8452;stroke:#ffffff;stroke-width:0.48;\" x=\"90.575107\" xlink:href=\"#C0_0_60183ee6e3\" y=\"95.29306\"/>\n    </g>\n    <g clip-path=\"url(#p3d548e2b7b)\">\n     <use style=\"fill:#dd8452;stroke:#ffffff;stroke-width:0.48;\" x=\"99.134594\" xlink:href=\"#C0_0_60183ee6e3\" y=\"109.86048\"/>\n    </g>\n    <g clip-path=\"url(#p3d548e2b7b)\">\n     <use style=\"fill:#dd8452;stroke:#ffffff;stroke-width:0.48;\" x=\"246.050027\" xlink:href=\"#C0_0_60183ee6e3\" y=\"133.354174\"/>\n    </g>\n    <g clip-path=\"url(#p3d548e2b7b)\">\n     <use style=\"fill:#dd8452;stroke:#ffffff;stroke-width:0.48;\" x=\"174.004722\" xlink:href=\"#C0_0_60183ee6e3\" y=\"115.561661\"/>\n    </g>\n    <g clip-path=\"url(#p3d548e2b7b)\">\n     <use style=\"fill:#dd8452;stroke:#ffffff;stroke-width:0.48;\" x=\"161.802779\" xlink:href=\"#C0_0_60183ee6e3\" y=\"128.428444\"/>\n    </g>\n    <g clip-path=\"url(#p3d548e2b7b)\">\n     <use style=\"fill:#dd8452;stroke:#ffffff;stroke-width:0.48;\" x=\"236.435198\" xlink:href=\"#C0_0_60183ee6e3\" y=\"134.683748\"/>\n    </g>\n    <g clip-path=\"url(#p3d548e2b7b)\">\n     <use style=\"fill:#dd8452;stroke:#ffffff;stroke-width:0.48;\" x=\"198.69663\" xlink:href=\"#C0_0_60183ee6e3\" y=\"122.363109\"/>\n    </g>\n    <g clip-path=\"url(#p3d548e2b7b)\">\n     <use style=\"fill:#dd8452;stroke:#ffffff;stroke-width:0.48;\" x=\"266.582912\" xlink:href=\"#C0_0_60183ee6e3\" y=\"104.107992\"/>\n    </g>\n    <g clip-path=\"url(#p3d548e2b7b)\">\n     <use style=\"fill:#dd8452;stroke:#ffffff;stroke-width:0.48;\" x=\"243.299099\" xlink:href=\"#C0_0_60183ee6e3\" y=\"151.603029\"/>\n    </g>\n    <g clip-path=\"url(#p3d548e2b7b)\">\n     <use style=\"fill:#dd8452;stroke:#ffffff;stroke-width:0.48;\" x=\"179.460295\" xlink:href=\"#C0_0_60183ee6e3\" y=\"122.186869\"/>\n    </g>\n    <g clip-path=\"url(#p3d548e2b7b)\">\n     <use style=\"fill:#dd8452;stroke:#ffffff;stroke-width:0.48;\" x=\"287.404625\" xlink:href=\"#C0_0_60183ee6e3\" y=\"123.602972\"/>\n    </g>\n    <g clip-path=\"url(#p3d548e2b7b)\">\n     <use style=\"fill:#dd8452;stroke:#ffffff;stroke-width:0.48;\" x=\"102.94032\" xlink:href=\"#C0_0_60183ee6e3\" y=\"131.625908\"/>\n    </g>\n    <g clip-path=\"url(#p3d548e2b7b)\">\n     <use style=\"fill:#dd8452;stroke:#ffffff;stroke-width:0.48;\" x=\"122.50251\" xlink:href=\"#C0_0_60183ee6e3\" y=\"114.300574\"/>\n    </g>\n    <g clip-path=\"url(#p3d548e2b7b)\">\n     <use style=\"fill:#dd8452;stroke:#ffffff;stroke-width:0.48;\" x=\"267.240241\" xlink:href=\"#C0_0_60183ee6e3\" y=\"82.834755\"/>\n    </g>\n    <g clip-path=\"url(#p3d548e2b7b)\">\n     <use style=\"fill:#dd8452;stroke:#ffffff;stroke-width:0.48;\" x=\"102.789573\" xlink:href=\"#C0_0_60183ee6e3\" y=\"115.973796\"/>\n    </g>\n    <g clip-path=\"url(#p3d548e2b7b)\">\n     <use style=\"fill:#dd8452;stroke:#ffffff;stroke-width:0.48;\" x=\"115.779191\" xlink:href=\"#C0_0_60183ee6e3\" y=\"117.20628\"/>\n    </g>\n    <g clip-path=\"url(#p3d548e2b7b)\">\n     <use style=\"fill:#dd8452;stroke:#ffffff;stroke-width:0.48;\" x=\"134.420484\" xlink:href=\"#C0_0_60183ee6e3\" y=\"134.906859\"/>\n    </g>\n    <g clip-path=\"url(#p3d548e2b7b)\">\n     <use style=\"fill:#dd8452;stroke:#ffffff;stroke-width:0.48;\" x=\"206.843797\" xlink:href=\"#C0_0_60183ee6e3\" y=\"194.279179\"/>\n    </g>\n    <g clip-path=\"url(#p3d548e2b7b)\">\n     <use style=\"fill:#dd8452;stroke:#ffffff;stroke-width:0.48;\" x=\"234.674713\" xlink:href=\"#C0_0_60183ee6e3\" y=\"150.724101\"/>\n    </g>\n    <g clip-path=\"url(#p3d548e2b7b)\">\n     <use style=\"fill:#dd8452;stroke:#ffffff;stroke-width:0.48;\" x=\"219.734898\" xlink:href=\"#C0_0_60183ee6e3\" y=\"130.247039\"/>\n    </g>\n    <g clip-path=\"url(#p3d548e2b7b)\">\n     <use style=\"fill:#dd8452;stroke:#ffffff;stroke-width:0.48;\" x=\"73.521762\" xlink:href=\"#C0_0_60183ee6e3\" y=\"145.637185\"/>\n    </g>\n    <g clip-path=\"url(#p3d548e2b7b)\">\n     <use style=\"fill:#dd8452;stroke:#ffffff;stroke-width:0.48;\" x=\"133.360974\" xlink:href=\"#C0_0_60183ee6e3\" y=\"139.817978\"/>\n    </g>\n    <g clip-path=\"url(#p3d548e2b7b)\">\n     <use style=\"fill:#dd8452;stroke:#ffffff;stroke-width:0.48;\" x=\"155.589872\" xlink:href=\"#C0_0_60183ee6e3\" y=\"90.459947\"/>\n    </g>\n    <g clip-path=\"url(#p3d548e2b7b)\">\n     <use style=\"fill:#dd8452;stroke:#ffffff;stroke-width:0.48;\" x=\"139.249914\" xlink:href=\"#C0_0_60183ee6e3\" y=\"117.420077\"/>\n    </g>\n    <g clip-path=\"url(#p3d548e2b7b)\">\n     <use style=\"fill:#dd8452;stroke:#ffffff;stroke-width:0.48;\" x=\"139.057357\" xlink:href=\"#C0_0_60183ee6e3\" y=\"126.17315\"/>\n    </g>\n    <g clip-path=\"url(#p3d548e2b7b)\">\n     <use style=\"fill:#dd8452;stroke:#ffffff;stroke-width:0.48;\" x=\"148.518138\" xlink:href=\"#C0_0_60183ee6e3\" y=\"113.464742\"/>\n    </g>\n    <g clip-path=\"url(#p3d548e2b7b)\">\n     <use style=\"fill:#dd8452;stroke:#ffffff;stroke-width:0.48;\" x=\"61.198696\" xlink:href=\"#C0_0_60183ee6e3\" y=\"95.034826\"/>\n    </g>\n    <g clip-path=\"url(#p3d548e2b7b)\">\n     <use style=\"fill:#dd8452;stroke:#ffffff;stroke-width:0.48;\" x=\"271.004512\" xlink:href=\"#C0_0_60183ee6e3\" y=\"124.400777\"/>\n    </g>\n    <g clip-path=\"url(#p3d548e2b7b)\">\n     <use style=\"fill:#dd8452;stroke:#ffffff;stroke-width:0.48;\" x=\"57.838494\" xlink:href=\"#C0_0_60183ee6e3\" y=\"129.881591\"/>\n    </g>\n    <g clip-path=\"url(#p3d548e2b7b)\">\n     <use style=\"fill:#dd8452;stroke:#ffffff;stroke-width:0.48;\" x=\"208.419646\" xlink:href=\"#C0_0_60183ee6e3\" y=\"138.146731\"/>\n    </g>\n    <g clip-path=\"url(#p3d548e2b7b)\">\n     <use style=\"fill:#dd8452;stroke:#ffffff;stroke-width:0.48;\" x=\"274.825836\" xlink:href=\"#C0_0_60183ee6e3\" y=\"161.94833\"/>\n    </g>\n    <g clip-path=\"url(#p3d548e2b7b)\">\n     <use style=\"fill:#dd8452;stroke:#ffffff;stroke-width:0.48;\" x=\"198.740816\" xlink:href=\"#C0_0_60183ee6e3\" y=\"106.623404\"/>\n    </g>\n    <g clip-path=\"url(#p3d548e2b7b)\">\n     <use style=\"fill:#dd8452;stroke:#ffffff;stroke-width:0.48;\" x=\"93.778866\" xlink:href=\"#C0_0_60183ee6e3\" y=\"106.938401\"/>\n    </g>\n    <g clip-path=\"url(#p3d548e2b7b)\">\n     <use style=\"fill:#55a868;stroke:#ffffff;stroke-width:0.48;\" x=\"89.773552\" xlink:href=\"#C0_0_60183ee6e3\" y=\"126.487953\"/>\n    </g>\n    <g clip-path=\"url(#p3d548e2b7b)\">\n     <use style=\"fill:#55a868;stroke:#ffffff;stroke-width:0.48;\" x=\"131.85432\" xlink:href=\"#C0_0_60183ee6e3\" y=\"178.764713\"/>\n    </g>\n    <g clip-path=\"url(#p3d548e2b7b)\">\n     <use style=\"fill:#55a868;stroke:#ffffff;stroke-width:0.48;\" x=\"157.58519\" xlink:href=\"#C0_0_60183ee6e3\" y=\"149.767871\"/>\n    </g>\n    <g clip-path=\"url(#p3d548e2b7b)\">\n     <use style=\"fill:#55a868;stroke:#ffffff;stroke-width:0.48;\" x=\"141.037996\" xlink:href=\"#C0_0_60183ee6e3\" y=\"123.964079\"/>\n    </g>\n    <g clip-path=\"url(#p3d548e2b7b)\">\n     <use style=\"fill:#55a868;stroke:#ffffff;stroke-width:0.48;\" x=\"215.862964\" xlink:href=\"#C0_0_60183ee6e3\" y=\"133.14668\"/>\n    </g>\n    <g clip-path=\"url(#p3d548e2b7b)\">\n     <use style=\"fill:#55a868;stroke:#ffffff;stroke-width:0.48;\" x=\"170.898585\" xlink:href=\"#C0_0_60183ee6e3\" y=\"122.227487\"/>\n    </g>\n    <g clip-path=\"url(#p3d548e2b7b)\">\n     <use style=\"fill:#55a868;stroke:#ffffff;stroke-width:0.48;\" x=\"190.107227\" xlink:href=\"#C0_0_60183ee6e3\" y=\"131.219654\"/>\n    </g>\n    <g clip-path=\"url(#p3d548e2b7b)\">\n     <use style=\"fill:#55a868;stroke:#ffffff;stroke-width:0.48;\" x=\"173.319223\" xlink:href=\"#C0_0_60183ee6e3\" y=\"120.908156\"/>\n    </g>\n    <g clip-path=\"url(#p3d548e2b7b)\">\n     <use style=\"fill:#55a868;stroke:#ffffff;stroke-width:0.48;\" x=\"166.364637\" xlink:href=\"#C0_0_60183ee6e3\" y=\"120.249015\"/>\n    </g>\n    <g clip-path=\"url(#p3d548e2b7b)\">\n     <use style=\"fill:#55a868;stroke:#ffffff;stroke-width:0.48;\" x=\"149.726347\" xlink:href=\"#C0_0_60183ee6e3\" y=\"135.033684\"/>\n    </g>\n    <g clip-path=\"url(#p3d548e2b7b)\">\n     <use style=\"fill:#55a868;stroke:#ffffff;stroke-width:0.48;\" x=\"164.056566\" xlink:href=\"#C0_0_60183ee6e3\" y=\"127.389032\"/>\n    </g>\n    <g clip-path=\"url(#p3d548e2b7b)\">\n     <use style=\"fill:#55a868;stroke:#ffffff;stroke-width:0.48;\" x=\"222.843234\" xlink:href=\"#C0_0_60183ee6e3\" y=\"139.363178\"/>\n    </g>\n    <g clip-path=\"url(#p3d548e2b7b)\">\n     <use style=\"fill:#55a868;stroke:#ffffff;stroke-width:0.48;\" x=\"140.82975\" xlink:href=\"#C0_0_60183ee6e3\" y=\"130.544782\"/>\n    </g>\n    <g clip-path=\"url(#p3d548e2b7b)\">\n     <use style=\"fill:#55a868;stroke:#ffffff;stroke-width:0.48;\" x=\"144.027764\" xlink:href=\"#C0_0_60183ee6e3\" y=\"140.345441\"/>\n    </g>\n    <g clip-path=\"url(#p3d548e2b7b)\">\n     <use style=\"fill:#55a868;stroke:#ffffff;stroke-width:0.48;\" x=\"227.253267\" xlink:href=\"#C0_0_60183ee6e3\" y=\"135.741924\"/>\n    </g>\n    <g clip-path=\"url(#p3d548e2b7b)\">\n     <use style=\"fill:#55a868;stroke:#ffffff;stroke-width:0.48;\" x=\"183.364423\" xlink:href=\"#C0_0_60183ee6e3\" y=\"120.273697\"/>\n    </g>\n    <g clip-path=\"url(#p3d548e2b7b)\">\n     <use style=\"fill:#55a868;stroke:#ffffff;stroke-width:0.48;\" x=\"224.666591\" xlink:href=\"#C0_0_60183ee6e3\" y=\"127.120642\"/>\n    </g>\n    <g clip-path=\"url(#p3d548e2b7b)\">\n     <use style=\"fill:#55a868;stroke:#ffffff;stroke-width:0.48;\" x=\"109.554612\" xlink:href=\"#C0_0_60183ee6e3\" y=\"115.942094\"/>\n    </g>\n    <g clip-path=\"url(#p3d548e2b7b)\">\n     <use style=\"fill:#55a868;stroke:#ffffff;stroke-width:0.48;\" x=\"203.618176\" xlink:href=\"#C0_0_60183ee6e3\" y=\"134.326368\"/>\n    </g>\n    <g clip-path=\"url(#p3d548e2b7b)\">\n     <use style=\"fill:#55a868;stroke:#ffffff;stroke-width:0.48;\" x=\"194.780311\" xlink:href=\"#C0_0_60183ee6e3\" y=\"134.987136\"/>\n    </g>\n    <g clip-path=\"url(#p3d548e2b7b)\">\n     <use style=\"fill:#55a868;stroke:#ffffff;stroke-width:0.48;\" x=\"95.564232\" xlink:href=\"#C0_0_60183ee6e3\" y=\"118.754419\"/>\n    </g>\n    <g clip-path=\"url(#p3d548e2b7b)\">\n     <use style=\"fill:#55a868;stroke:#ffffff;stroke-width:0.48;\" x=\"154.876077\" xlink:href=\"#C0_0_60183ee6e3\" y=\"127.024529\"/>\n    </g>\n    <g clip-path=\"url(#p3d548e2b7b)\">\n     <use style=\"fill:#55a868;stroke:#ffffff;stroke-width:0.48;\" x=\"200.777691\" xlink:href=\"#C0_0_60183ee6e3\" y=\"118.314709\"/>\n    </g>\n    <g clip-path=\"url(#p3d548e2b7b)\">\n     <use style=\"fill:#55a868;stroke:#ffffff;stroke-width:0.48;\" x=\"190.204469\" xlink:href=\"#C0_0_60183ee6e3\" y=\"123.659504\"/>\n    </g>\n    <g clip-path=\"url(#p3d548e2b7b)\">\n     <use style=\"fill:#55a868;stroke:#ffffff;stroke-width:0.48;\" x=\"280.601449\" xlink:href=\"#C0_0_60183ee6e3\" y=\"90.087417\"/>\n    </g>\n    <g clip-path=\"url(#p3d548e2b7b)\">\n     <use style=\"fill:#55a868;stroke:#ffffff;stroke-width:0.48;\" x=\"245.504677\" xlink:href=\"#C0_0_60183ee6e3\" y=\"139.291469\"/>\n    </g>\n    <g clip-path=\"url(#p3d548e2b7b)\">\n     <use style=\"fill:#55a868;stroke:#ffffff;stroke-width:0.48;\" x=\"126.338898\" xlink:href=\"#C0_0_60183ee6e3\" y=\"118.142661\"/>\n    </g>\n    <g clip-path=\"url(#p3d548e2b7b)\">\n     <use style=\"fill:#55a868;stroke:#ffffff;stroke-width:0.48;\" x=\"181.219333\" xlink:href=\"#C0_0_60183ee6e3\" y=\"137.186364\"/>\n    </g>\n    <g clip-path=\"url(#p3d548e2b7b)\">\n     <use style=\"fill:#55a868;stroke:#ffffff;stroke-width:0.48;\" x=\"175.526928\" xlink:href=\"#C0_0_60183ee6e3\" y=\"130.979748\"/>\n    </g>\n    <g clip-path=\"url(#p3d548e2b7b)\">\n     <use style=\"fill:#55a868;stroke:#ffffff;stroke-width:0.48;\" x=\"139.051659\" xlink:href=\"#C0_0_60183ee6e3\" y=\"121.189456\"/>\n    </g>\n    <g clip-path=\"url(#p3d548e2b7b)\">\n     <use style=\"fill:#55a868;stroke:#ffffff;stroke-width:0.48;\" x=\"167.881153\" xlink:href=\"#C0_0_60183ee6e3\" y=\"109.945374\"/>\n    </g>\n    <g clip-path=\"url(#p3d548e2b7b)\">\n     <use style=\"fill:#55a868;stroke:#ffffff;stroke-width:0.48;\" x=\"190.011793\" xlink:href=\"#C0_0_60183ee6e3\" y=\"124.616229\"/>\n    </g>\n    <g clip-path=\"url(#p3d548e2b7b)\">\n     <use style=\"fill:#55a868;stroke:#ffffff;stroke-width:0.48;\" x=\"127.528347\" xlink:href=\"#C0_0_60183ee6e3\" y=\"128.622747\"/>\n    </g>\n    <g clip-path=\"url(#p3d548e2b7b)\">\n     <use style=\"fill:#55a868;stroke:#ffffff;stroke-width:0.48;\" x=\"166.392694\" xlink:href=\"#C0_0_60183ee6e3\" y=\"121.778898\"/>\n    </g>\n    <g clip-path=\"url(#p3d548e2b7b)\">\n     <use style=\"fill:#55a868;stroke:#ffffff;stroke-width:0.48;\" x=\"118.84381\" xlink:href=\"#C0_0_60183ee6e3\" y=\"125.344526\"/>\n    </g>\n    <g clip-path=\"url(#p3d548e2b7b)\">\n     <use style=\"fill:#55a868;stroke:#ffffff;stroke-width:0.48;\" x=\"173.701652\" xlink:href=\"#C0_0_60183ee6e3\" y=\"128.984552\"/>\n    </g>\n    <g clip-path=\"url(#p3d548e2b7b)\">\n     <use style=\"fill:#55a868;stroke:#ffffff;stroke-width:0.48;\" x=\"188.376725\" xlink:href=\"#C0_0_60183ee6e3\" y=\"114.219527\"/>\n    </g>\n    <g clip-path=\"url(#p3d548e2b7b)\">\n     <use style=\"fill:#55a868;stroke:#ffffff;stroke-width:0.48;\" x=\"193.992527\" xlink:href=\"#C0_0_60183ee6e3\" y=\"122.062073\"/>\n    </g>\n    <g clip-path=\"url(#p3d548e2b7b)\">\n     <use style=\"fill:#55a868;stroke:#ffffff;stroke-width:0.48;\" x=\"117.05234\" xlink:href=\"#C0_0_60183ee6e3\" y=\"114.879769\"/>\n    </g>\n    <g clip-path=\"url(#p3d548e2b7b)\">\n     <use style=\"fill:#55a868;stroke:#ffffff;stroke-width:0.48;\" x=\"256.099318\" xlink:href=\"#C0_0_60183ee6e3\" y=\"147.827668\"/>\n    </g>\n    <g clip-path=\"url(#p3d548e2b7b)\">\n     <use style=\"fill:#55a868;stroke:#ffffff;stroke-width:0.48;\" x=\"114.69467\" xlink:href=\"#C0_0_60183ee6e3\" y=\"128.993733\"/>\n    </g>\n    <g clip-path=\"url(#p3d548e2b7b)\">\n     <use style=\"fill:#55a868;stroke:#ffffff;stroke-width:0.48;\" x=\"152.583585\" xlink:href=\"#C0_0_60183ee6e3\" y=\"122.869008\"/>\n    </g>\n    <g clip-path=\"url(#p3d548e2b7b)\">\n     <use style=\"fill:#55a868;stroke:#ffffff;stroke-width:0.48;\" x=\"151.093772\" xlink:href=\"#C0_0_60183ee6e3\" y=\"113.233539\"/>\n    </g>\n    <g clip-path=\"url(#p3d548e2b7b)\">\n     <use style=\"fill:#55a868;stroke:#ffffff;stroke-width:0.48;\" x=\"180.609094\" xlink:href=\"#C0_0_60183ee6e3\" y=\"129.672528\"/>\n    </g>\n    <g clip-path=\"url(#p3d548e2b7b)\">\n     <use style=\"fill:#55a868;stroke:#ffffff;stroke-width:0.48;\" x=\"213.054361\" xlink:href=\"#C0_0_60183ee6e3\" y=\"129.858957\"/>\n    </g>\n   </g>\n   <g id=\"PathCollection_2\"/>\n   <g id=\"PathCollection_3\"/>\n   <g id=\"PathCollection_4\"/>\n   <g id=\"matplotlib.axis_1\">\n    <g id=\"xtick_1\">\n     <g id=\"line2d_1\">\n      <defs>\n       <path d=\"M 0 0 \nL 0 3.5 \n\" id=\"m3ebca43733\" style=\"stroke:#000000;stroke-width:0.8;\"/>\n      </defs>\n      <g>\n       <use style=\"stroke:#000000;stroke-width:0.8;\" x=\"46.006582\" xlink:href=\"#m3ebca43733\" y=\"224.64\"/>\n      </g>\n     </g>\n     <g id=\"text_1\">\n      <!-- −6 -->\n      <defs>\n       <path d=\"M 10.59375 35.5 \nL 73.1875 35.5 \nL 73.1875 27.203125 \nL 10.59375 27.203125 \nz\n\" id=\"DejaVuSans-8722\"/>\n       <path d=\"M 33.015625 40.375 \nQ 26.375 40.375 22.484375 35.828125 \nQ 18.609375 31.296875 18.609375 23.390625 \nQ 18.609375 15.53125 22.484375 10.953125 \nQ 26.375 6.390625 33.015625 6.390625 \nQ 39.65625 6.390625 43.53125 10.953125 \nQ 47.40625 15.53125 47.40625 23.390625 \nQ 47.40625 31.296875 43.53125 35.828125 \nQ 39.65625 40.375 33.015625 40.375 \nz\nM 52.59375 71.296875 \nL 52.59375 62.3125 \nQ 48.875 64.0625 45.09375 64.984375 \nQ 41.3125 65.921875 37.59375 65.921875 \nQ 27.828125 65.921875 22.671875 59.328125 \nQ 17.53125 52.734375 16.796875 39.40625 \nQ 19.671875 43.65625 24.015625 45.921875 \nQ 28.375 48.1875 33.59375 48.1875 \nQ 44.578125 48.1875 50.953125 41.515625 \nQ 57.328125 34.859375 57.328125 23.390625 \nQ 57.328125 12.15625 50.6875 5.359375 \nQ 44.046875 -1.421875 33.015625 -1.421875 \nQ 20.359375 -1.421875 13.671875 8.265625 \nQ 6.984375 17.96875 6.984375 36.375 \nQ 6.984375 53.65625 15.1875 63.9375 \nQ 23.390625 74.21875 37.203125 74.21875 \nQ 40.921875 74.21875 44.703125 73.484375 \nQ 48.484375 72.75 52.59375 71.296875 \nz\n\" id=\"DejaVuSans-54\"/>\n      </defs>\n      <g transform=\"translate(38.635488 239.238437)scale(0.1 -0.1)\">\n       <use xlink:href=\"#DejaVuSans-8722\"/>\n       <use x=\"83.789062\" xlink:href=\"#DejaVuSans-54\"/>\n      </g>\n     </g>\n    </g>\n    <g id=\"xtick_2\">\n     <g id=\"line2d_2\">\n      <g>\n       <use style=\"stroke:#000000;stroke-width:0.8;\" x=\"95.83524\" xlink:href=\"#m3ebca43733\" y=\"224.64\"/>\n      </g>\n     </g>\n     <g id=\"text_2\">\n      <!-- −4 -->\n      <defs>\n       <path d=\"M 37.796875 64.3125 \nL 12.890625 25.390625 \nL 37.796875 25.390625 \nz\nM 35.203125 72.90625 \nL 47.609375 72.90625 \nL 47.609375 25.390625 \nL 58.015625 25.390625 \nL 58.015625 17.1875 \nL 47.609375 17.1875 \nL 47.609375 0 \nL 37.796875 0 \nL 37.796875 17.1875 \nL 4.890625 17.1875 \nL 4.890625 26.703125 \nz\n\" id=\"DejaVuSans-52\"/>\n      </defs>\n      <g transform=\"translate(88.464147 239.238437)scale(0.1 -0.1)\">\n       <use xlink:href=\"#DejaVuSans-8722\"/>\n       <use x=\"83.789062\" xlink:href=\"#DejaVuSans-52\"/>\n      </g>\n     </g>\n    </g>\n    <g id=\"xtick_3\">\n     <g id=\"line2d_3\">\n      <g>\n       <use style=\"stroke:#000000;stroke-width:0.8;\" x=\"145.663899\" xlink:href=\"#m3ebca43733\" y=\"224.64\"/>\n      </g>\n     </g>\n     <g id=\"text_3\">\n      <!-- −2 -->\n      <defs>\n       <path d=\"M 19.1875 8.296875 \nL 53.609375 8.296875 \nL 53.609375 0 \nL 7.328125 0 \nL 7.328125 8.296875 \nQ 12.9375 14.109375 22.625 23.890625 \nQ 32.328125 33.6875 34.8125 36.53125 \nQ 39.546875 41.84375 41.421875 45.53125 \nQ 43.3125 49.21875 43.3125 52.78125 \nQ 43.3125 58.59375 39.234375 62.25 \nQ 35.15625 65.921875 28.609375 65.921875 \nQ 23.96875 65.921875 18.8125 64.3125 \nQ 13.671875 62.703125 7.8125 59.421875 \nL 7.8125 69.390625 \nQ 13.765625 71.78125 18.9375 73 \nQ 24.125 74.21875 28.421875 74.21875 \nQ 39.75 74.21875 46.484375 68.546875 \nQ 53.21875 62.890625 53.21875 53.421875 \nQ 53.21875 48.921875 51.53125 44.890625 \nQ 49.859375 40.875 45.40625 35.40625 \nQ 44.1875 33.984375 37.640625 27.21875 \nQ 31.109375 20.453125 19.1875 8.296875 \nz\n\" id=\"DejaVuSans-50\"/>\n      </defs>\n      <g transform=\"translate(138.292805 239.238437)scale(0.1 -0.1)\">\n       <use xlink:href=\"#DejaVuSans-8722\"/>\n       <use x=\"83.789062\" xlink:href=\"#DejaVuSans-50\"/>\n      </g>\n     </g>\n    </g>\n    <g id=\"xtick_4\">\n     <g id=\"line2d_4\">\n      <g>\n       <use style=\"stroke:#000000;stroke-width:0.8;\" x=\"195.492557\" xlink:href=\"#m3ebca43733\" y=\"224.64\"/>\n      </g>\n     </g>\n     <g id=\"text_4\">\n      <!-- 0 -->\n      <defs>\n       <path d=\"M 31.78125 66.40625 \nQ 24.171875 66.40625 20.328125 58.90625 \nQ 16.5 51.421875 16.5 36.375 \nQ 16.5 21.390625 20.328125 13.890625 \nQ 24.171875 6.390625 31.78125 6.390625 \nQ 39.453125 6.390625 43.28125 13.890625 \nQ 47.125 21.390625 47.125 36.375 \nQ 47.125 51.421875 43.28125 58.90625 \nQ 39.453125 66.40625 31.78125 66.40625 \nz\nM 31.78125 74.21875 \nQ 44.046875 74.21875 50.515625 64.515625 \nQ 56.984375 54.828125 56.984375 36.375 \nQ 56.984375 17.96875 50.515625 8.265625 \nQ 44.046875 -1.421875 31.78125 -1.421875 \nQ 19.53125 -1.421875 13.0625 8.265625 \nQ 6.59375 17.96875 6.59375 36.375 \nQ 6.59375 54.828125 13.0625 64.515625 \nQ 19.53125 74.21875 31.78125 74.21875 \nz\n\" id=\"DejaVuSans-48\"/>\n      </defs>\n      <g transform=\"translate(192.311307 239.238437)scale(0.1 -0.1)\">\n       <use xlink:href=\"#DejaVuSans-48\"/>\n      </g>\n     </g>\n    </g>\n    <g id=\"xtick_5\">\n     <g id=\"line2d_5\">\n      <g>\n       <use style=\"stroke:#000000;stroke-width:0.8;\" x=\"245.321216\" xlink:href=\"#m3ebca43733\" y=\"224.64\"/>\n      </g>\n     </g>\n     <g id=\"text_5\">\n      <!-- 2 -->\n      <g transform=\"translate(242.139966 239.238437)scale(0.1 -0.1)\">\n       <use xlink:href=\"#DejaVuSans-50\"/>\n      </g>\n     </g>\n    </g>\n    <g id=\"xtick_6\">\n     <g id=\"line2d_6\">\n      <g>\n       <use style=\"stroke:#000000;stroke-width:0.8;\" x=\"295.149874\" xlink:href=\"#m3ebca43733\" y=\"224.64\"/>\n      </g>\n     </g>\n     <g id=\"text_6\">\n      <!-- 4 -->\n      <g transform=\"translate(291.968624 239.238437)scale(0.1 -0.1)\">\n       <use xlink:href=\"#DejaVuSans-52\"/>\n      </g>\n     </g>\n    </g>\n    <g id=\"xtick_7\">\n     <g id=\"line2d_7\">\n      <g>\n       <use style=\"stroke:#000000;stroke-width:0.8;\" x=\"344.978533\" xlink:href=\"#m3ebca43733\" y=\"224.64\"/>\n      </g>\n     </g>\n     <g id=\"text_7\">\n      <!-- 6 -->\n      <g transform=\"translate(341.797283 239.238437)scale(0.1 -0.1)\">\n       <use xlink:href=\"#DejaVuSans-54\"/>\n      </g>\n     </g>\n    </g>\n    <g id=\"text_8\">\n     <!-- pc1 -->\n     <defs>\n      <path d=\"M 18.109375 8.203125 \nL 18.109375 -20.796875 \nL 9.078125 -20.796875 \nL 9.078125 54.6875 \nL 18.109375 54.6875 \nL 18.109375 46.390625 \nQ 20.953125 51.265625 25.265625 53.625 \nQ 29.59375 56 35.59375 56 \nQ 45.5625 56 51.78125 48.09375 \nQ 58.015625 40.1875 58.015625 27.296875 \nQ 58.015625 14.40625 51.78125 6.484375 \nQ 45.5625 -1.421875 35.59375 -1.421875 \nQ 29.59375 -1.421875 25.265625 0.953125 \nQ 20.953125 3.328125 18.109375 8.203125 \nz\nM 48.6875 27.296875 \nQ 48.6875 37.203125 44.609375 42.84375 \nQ 40.53125 48.484375 33.40625 48.484375 \nQ 26.265625 48.484375 22.1875 42.84375 \nQ 18.109375 37.203125 18.109375 27.296875 \nQ 18.109375 17.390625 22.1875 11.75 \nQ 26.265625 6.109375 33.40625 6.109375 \nQ 40.53125 6.109375 44.609375 11.75 \nQ 48.6875 17.390625 48.6875 27.296875 \nz\n\" id=\"DejaVuSans-112\"/>\n      <path d=\"M 48.78125 52.59375 \nL 48.78125 44.1875 \nQ 44.96875 46.296875 41.140625 47.34375 \nQ 37.3125 48.390625 33.40625 48.390625 \nQ 24.65625 48.390625 19.8125 42.84375 \nQ 14.984375 37.3125 14.984375 27.296875 \nQ 14.984375 17.28125 19.8125 11.734375 \nQ 24.65625 6.203125 33.40625 6.203125 \nQ 37.3125 6.203125 41.140625 7.25 \nQ 44.96875 8.296875 48.78125 10.40625 \nL 48.78125 2.09375 \nQ 45.015625 0.34375 40.984375 -0.53125 \nQ 36.96875 -1.421875 32.421875 -1.421875 \nQ 20.0625 -1.421875 12.78125 6.34375 \nQ 5.515625 14.109375 5.515625 27.296875 \nQ 5.515625 40.671875 12.859375 48.328125 \nQ 20.21875 56 33.015625 56 \nQ 37.15625 56 41.109375 55.140625 \nQ 45.0625 54.296875 48.78125 52.59375 \nz\n\" id=\"DejaVuSans-99\"/>\n      <path d=\"M 12.40625 8.296875 \nL 28.515625 8.296875 \nL 28.515625 63.921875 \nL 10.984375 60.40625 \nL 10.984375 69.390625 \nL 28.421875 72.90625 \nL 38.28125 72.90625 \nL 38.28125 8.296875 \nL 54.390625 8.296875 \nL 54.390625 0 \nL 12.40625 0 \nz\n\" id=\"DejaVuSans-49\"/>\n     </defs>\n     <g transform=\"translate(200.915625 252.916562)scale(0.1 -0.1)\">\n      <use xlink:href=\"#DejaVuSans-112\"/>\n      <use x=\"63.476562\" xlink:href=\"#DejaVuSans-99\"/>\n      <use x=\"118.457031\" xlink:href=\"#DejaVuSans-49\"/>\n     </g>\n    </g>\n   </g>\n   <g id=\"matplotlib.axis_2\">\n    <g id=\"ytick_1\">\n     <g id=\"line2d_8\">\n      <defs>\n       <path d=\"M 0 0 \nL -3.5 0 \n\" id=\"m22d63fa50d\" style=\"stroke:#000000;stroke-width:0.8;\"/>\n      </defs>\n      <g>\n       <use style=\"stroke:#000000;stroke-width:0.8;\" x=\"42.620313\" xlink:href=\"#m22d63fa50d\" y=\"202.984443\"/>\n      </g>\n     </g>\n     <g id=\"text_9\">\n      <!-- −4 -->\n      <g transform=\"translate(20.878125 206.783661)scale(0.1 -0.1)\">\n       <use xlink:href=\"#DejaVuSans-8722\"/>\n       <use x=\"83.789062\" xlink:href=\"#DejaVuSans-52\"/>\n      </g>\n     </g>\n    </g>\n    <g id=\"ytick_2\">\n     <g id=\"line2d_9\">\n      <g>\n       <use style=\"stroke:#000000;stroke-width:0.8;\" x=\"42.620313\" xlink:href=\"#m22d63fa50d\" y=\"163.249038\"/>\n      </g>\n     </g>\n     <g id=\"text_10\">\n      <!-- −2 -->\n      <g transform=\"translate(20.878125 167.048256)scale(0.1 -0.1)\">\n       <use xlink:href=\"#DejaVuSans-8722\"/>\n       <use x=\"83.789062\" xlink:href=\"#DejaVuSans-50\"/>\n      </g>\n     </g>\n    </g>\n    <g id=\"ytick_3\">\n     <g id=\"line2d_10\">\n      <g>\n       <use style=\"stroke:#000000;stroke-width:0.8;\" x=\"42.620313\" xlink:href=\"#m22d63fa50d\" y=\"123.513632\"/>\n      </g>\n     </g>\n     <g id=\"text_11\">\n      <!-- 0 -->\n      <g transform=\"translate(29.257813 127.312851)scale(0.1 -0.1)\">\n       <use xlink:href=\"#DejaVuSans-48\"/>\n      </g>\n     </g>\n    </g>\n    <g id=\"ytick_4\">\n     <g id=\"line2d_11\">\n      <g>\n       <use style=\"stroke:#000000;stroke-width:0.8;\" x=\"42.620313\" xlink:href=\"#m22d63fa50d\" y=\"83.778227\"/>\n      </g>\n     </g>\n     <g id=\"text_12\">\n      <!-- 2 -->\n      <g transform=\"translate(29.257813 87.577446)scale(0.1 -0.1)\">\n       <use xlink:href=\"#DejaVuSans-50\"/>\n      </g>\n     </g>\n    </g>\n    <g id=\"ytick_5\">\n     <g id=\"line2d_12\">\n      <g>\n       <use style=\"stroke:#000000;stroke-width:0.8;\" x=\"42.620313\" xlink:href=\"#m22d63fa50d\" y=\"44.042822\"/>\n      </g>\n     </g>\n     <g id=\"text_13\">\n      <!-- 4 -->\n      <g transform=\"translate(29.257813 47.842041)scale(0.1 -0.1)\">\n       <use xlink:href=\"#DejaVuSans-52\"/>\n      </g>\n     </g>\n    </g>\n    <g id=\"text_14\">\n     <!-- pc2 -->\n     <g transform=\"translate(14.798438 125.024687)rotate(-90)scale(0.1 -0.1)\">\n      <use xlink:href=\"#DejaVuSans-112\"/>\n      <use x=\"63.476562\" xlink:href=\"#DejaVuSans-99\"/>\n      <use x=\"118.457031\" xlink:href=\"#DejaVuSans-50\"/>\n     </g>\n    </g>\n   </g>\n   <g id=\"patch_3\">\n    <path d=\"M 42.620313 224.64 \nL 42.620313 7.2 \n\" style=\"fill:none;stroke:#000000;stroke-linecap:square;stroke-linejoin:miter;stroke-width:0.8;\"/>\n   </g>\n   <g id=\"patch_4\">\n    <path d=\"M 377.420313 224.64 \nL 377.420313 7.2 \n\" style=\"fill:none;stroke:#000000;stroke-linecap:square;stroke-linejoin:miter;stroke-width:0.8;\"/>\n   </g>\n   <g id=\"patch_5\">\n    <path d=\"M 42.620312 224.64 \nL 377.420313 224.64 \n\" style=\"fill:none;stroke:#000000;stroke-linecap:square;stroke-linejoin:miter;stroke-width:0.8;\"/>\n   </g>\n   <g id=\"patch_6\">\n    <path d=\"M 42.620312 7.2 \nL 377.420313 7.2 \n\" style=\"fill:none;stroke:#000000;stroke-linecap:square;stroke-linejoin:miter;stroke-width:0.8;\"/>\n   </g>\n   <g id=\"legend_1\">\n    <g id=\"patch_7\">\n     <path d=\"M 49.620313 73.9125 \nL 87.982812 73.9125 \nQ 89.982812 73.9125 89.982812 71.9125 \nL 89.982812 14.2 \nQ 89.982812 12.2 87.982812 12.2 \nL 49.620313 12.2 \nQ 47.620313 12.2 47.620313 14.2 \nL 47.620313 71.9125 \nQ 47.620313 73.9125 49.620313 73.9125 \nz\n\" style=\"fill:#ffffff;opacity:0.8;stroke:#cccccc;stroke-linejoin:miter;\"/>\n    </g>\n    <g id=\"text_15\">\n     <!-- Label -->\n     <defs>\n      <path d=\"M 9.8125 72.90625 \nL 19.671875 72.90625 \nL 19.671875 8.296875 \nL 55.171875 8.296875 \nL 55.171875 0 \nL 9.8125 0 \nz\n\" id=\"DejaVuSans-76\"/>\n      <path d=\"M 34.28125 27.484375 \nQ 23.390625 27.484375 19.1875 25 \nQ 14.984375 22.515625 14.984375 16.5 \nQ 14.984375 11.71875 18.140625 8.90625 \nQ 21.296875 6.109375 26.703125 6.109375 \nQ 34.1875 6.109375 38.703125 11.40625 \nQ 43.21875 16.703125 43.21875 25.484375 \nL 43.21875 27.484375 \nz\nM 52.203125 31.203125 \nL 52.203125 0 \nL 43.21875 0 \nL 43.21875 8.296875 \nQ 40.140625 3.328125 35.546875 0.953125 \nQ 30.953125 -1.421875 24.3125 -1.421875 \nQ 15.921875 -1.421875 10.953125 3.296875 \nQ 6 8.015625 6 15.921875 \nQ 6 25.140625 12.171875 29.828125 \nQ 18.359375 34.515625 30.609375 34.515625 \nL 43.21875 34.515625 \nL 43.21875 35.40625 \nQ 43.21875 41.609375 39.140625 45 \nQ 35.0625 48.390625 27.6875 48.390625 \nQ 23 48.390625 18.546875 47.265625 \nQ 14.109375 46.140625 10.015625 43.890625 \nL 10.015625 52.203125 \nQ 14.9375 54.109375 19.578125 55.046875 \nQ 24.21875 56 28.609375 56 \nQ 40.484375 56 46.34375 49.84375 \nQ 52.203125 43.703125 52.203125 31.203125 \nz\n\" id=\"DejaVuSans-97\"/>\n      <path d=\"M 48.6875 27.296875 \nQ 48.6875 37.203125 44.609375 42.84375 \nQ 40.53125 48.484375 33.40625 48.484375 \nQ 26.265625 48.484375 22.1875 42.84375 \nQ 18.109375 37.203125 18.109375 27.296875 \nQ 18.109375 17.390625 22.1875 11.75 \nQ 26.265625 6.109375 33.40625 6.109375 \nQ 40.53125 6.109375 44.609375 11.75 \nQ 48.6875 17.390625 48.6875 27.296875 \nz\nM 18.109375 46.390625 \nQ 20.953125 51.265625 25.265625 53.625 \nQ 29.59375 56 35.59375 56 \nQ 45.5625 56 51.78125 48.09375 \nQ 58.015625 40.1875 58.015625 27.296875 \nQ 58.015625 14.40625 51.78125 6.484375 \nQ 45.5625 -1.421875 35.59375 -1.421875 \nQ 29.59375 -1.421875 25.265625 0.953125 \nQ 20.953125 3.328125 18.109375 8.203125 \nL 18.109375 0 \nL 9.078125 0 \nL 9.078125 75.984375 \nL 18.109375 75.984375 \nz\n\" id=\"DejaVuSans-98\"/>\n      <path d=\"M 56.203125 29.59375 \nL 56.203125 25.203125 \nL 14.890625 25.203125 \nQ 15.484375 15.921875 20.484375 11.0625 \nQ 25.484375 6.203125 34.421875 6.203125 \nQ 39.59375 6.203125 44.453125 7.46875 \nQ 49.3125 8.734375 54.109375 11.28125 \nL 54.109375 2.78125 \nQ 49.265625 0.734375 44.1875 -0.34375 \nQ 39.109375 -1.421875 33.890625 -1.421875 \nQ 20.796875 -1.421875 13.15625 6.1875 \nQ 5.515625 13.8125 5.515625 26.8125 \nQ 5.515625 40.234375 12.765625 48.109375 \nQ 20.015625 56 32.328125 56 \nQ 43.359375 56 49.78125 48.890625 \nQ 56.203125 41.796875 56.203125 29.59375 \nz\nM 47.21875 32.234375 \nQ 47.125 39.59375 43.09375 43.984375 \nQ 39.0625 48.390625 32.421875 48.390625 \nQ 24.90625 48.390625 20.390625 44.140625 \nQ 15.875 39.890625 15.1875 32.171875 \nz\n\" id=\"DejaVuSans-101\"/>\n      <path d=\"M 9.421875 75.984375 \nL 18.40625 75.984375 \nL 18.40625 0 \nL 9.421875 0 \nz\n\" id=\"DejaVuSans-108\"/>\n     </defs>\n     <g transform=\"translate(55.311719 23.798437)scale(0.1 -0.1)\">\n      <use xlink:href=\"#DejaVuSans-76\"/>\n      <use x=\"55.712891\" xlink:href=\"#DejaVuSans-97\"/>\n      <use x=\"116.992188\" xlink:href=\"#DejaVuSans-98\"/>\n      <use x=\"180.46875\" xlink:href=\"#DejaVuSans-101\"/>\n      <use x=\"241.992188\" xlink:href=\"#DejaVuSans-108\"/>\n     </g>\n    </g>\n    <g id=\"PathCollection_5\">\n     <defs>\n      <path d=\"M 0 3 \nC 0.795609 3 1.55874 2.683901 2.12132 2.12132 \nC 2.683901 1.55874 3 0.795609 3 0 \nC 3 -0.795609 2.683901 -1.55874 2.12132 -2.12132 \nC 1.55874 -2.683901 0.795609 -3 0 -3 \nC -0.795609 -3 -1.55874 -2.683901 -2.12132 -2.12132 \nC -2.683901 -1.55874 -3 -0.795609 -3 0 \nC -3 0.795609 -2.683901 1.55874 -2.12132 2.12132 \nC -1.55874 2.683901 -0.795609 3 0 3 \nz\n\" id=\"mced46676e1\" style=\"stroke:#4c72b0;\"/>\n     </defs>\n     <g>\n      <use style=\"fill:#4c72b0;stroke:#4c72b0;\" x=\"61.620313\" xlink:href=\"#mced46676e1\" y=\"35.851562\"/>\n     </g>\n    </g>\n    <g id=\"text_16\">\n     <!-- 0 -->\n     <g transform=\"translate(79.620313 38.476562)scale(0.1 -0.1)\">\n      <use xlink:href=\"#DejaVuSans-48\"/>\n     </g>\n    </g>\n    <g id=\"PathCollection_6\">\n     <defs>\n      <path d=\"M 0 3 \nC 0.795609 3 1.55874 2.683901 2.12132 2.12132 \nC 2.683901 1.55874 3 0.795609 3 0 \nC 3 -0.795609 2.683901 -1.55874 2.12132 -2.12132 \nC 1.55874 -2.683901 0.795609 -3 0 -3 \nC -0.795609 -3 -1.55874 -2.683901 -2.12132 -2.12132 \nC -2.683901 -1.55874 -3 -0.795609 -3 0 \nC -3 0.795609 -2.683901 1.55874 -2.12132 2.12132 \nC -1.55874 2.683901 -0.795609 3 0 3 \nz\n\" id=\"m4a63c1f7b3\" style=\"stroke:#dd8452;\"/>\n     </defs>\n     <g>\n      <use style=\"fill:#dd8452;stroke:#dd8452;\" x=\"61.620313\" xlink:href=\"#m4a63c1f7b3\" y=\"50.529687\"/>\n     </g>\n    </g>\n    <g id=\"text_17\">\n     <!-- 1 -->\n     <g transform=\"translate(79.620313 53.154687)scale(0.1 -0.1)\">\n      <use xlink:href=\"#DejaVuSans-49\"/>\n     </g>\n    </g>\n    <g id=\"PathCollection_7\">\n     <defs>\n      <path d=\"M 0 3 \nC 0.795609 3 1.55874 2.683901 2.12132 2.12132 \nC 2.683901 1.55874 3 0.795609 3 0 \nC 3 -0.795609 2.683901 -1.55874 2.12132 -2.12132 \nC 1.55874 -2.683901 0.795609 -3 0 -3 \nC -0.795609 -3 -1.55874 -2.683901 -2.12132 -2.12132 \nC -2.683901 -1.55874 -3 -0.795609 -3 0 \nC -3 0.795609 -2.683901 1.55874 -2.12132 2.12132 \nC -1.55874 2.683901 -0.795609 3 0 3 \nz\n\" id=\"ma5b6d777c1\" style=\"stroke:#55a868;\"/>\n     </defs>\n     <g>\n      <use style=\"fill:#55a868;stroke:#55a868;\" x=\"61.620313\" xlink:href=\"#ma5b6d777c1\" y=\"65.207812\"/>\n     </g>\n    </g>\n    <g id=\"text_18\">\n     <!-- 2 -->\n     <g transform=\"translate(79.620313 67.832812)scale(0.1 -0.1)\">\n      <use xlink:href=\"#DejaVuSans-50\"/>\n     </g>\n    </g>\n   </g>\n  </g>\n </g>\n <defs>\n  <clipPath id=\"p3d548e2b7b\">\n   <rect height=\"217.44\" width=\"334.8\" x=\"42.620313\" y=\"7.2\"/>\n  </clipPath>\n </defs>\n</svg>\n",
      "image/png": "[encoded data removed]"
     },
     "metadata": {
      "needs_background": "light"
     }
    }
   ],
   "source": [
    "import seaborn as sns\n",
    "sns.scatterplot(data=df2, x='pc1', y='pc2', hue='Label', palette='deep')"
   ]
  },
  {
   "cell_type": "code",
   "execution_count": null,
   "metadata": {},
   "outputs": [],
   "source": []
  }
 ]
}